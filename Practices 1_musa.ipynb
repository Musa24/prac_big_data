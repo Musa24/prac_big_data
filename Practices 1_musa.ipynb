{
 "cells": [
  {
   "cell_type": "markdown",
   "id": "a47ddef0",
   "metadata": {},
   "source": [
    "## Practices 1"
   ]
  },
  {
   "cell_type": "code",
   "execution_count": 1,
   "id": "96f16708",
   "metadata": {},
   "outputs": [],
   "source": [
    "import findspark\n",
    "findspark.init()\n",
    "findspark.find()\n",
    "from pyspark.sql import SparkSession\n",
    "from pyspark.sql.functions import mean,col,split, col, regexp_extract, when, lit"
   ]
  },
  {
   "cell_type": "code",
   "execution_count": 2,
   "id": "cf52fed3",
   "metadata": {},
   "outputs": [],
   "source": [
    "#creat session\n",
    "spark = SparkSession.builder.appName(\"SimpleApp\").getOrCreate()"
   ]
  },
  {
   "cell_type": "code",
   "execution_count": 3,
   "id": "979f6510",
   "metadata": {},
   "outputs": [],
   "source": [
    "path = \"data/titanic_proj_train.csv\"\n",
    "titanic_df = spark.read.csv(path,header = 'True',inferSchema='True')"
   ]
  },
  {
   "cell_type": "code",
   "execution_count": 4,
   "id": "5cf50c1f",
   "metadata": {},
   "outputs": [
    {
     "data": {
      "text/plain": [
       "DataFrame[PassengerId: int, Survived: int, Pclass: int, Name: string, Sex: string, Age: double, SibSp: int, Parch: int, Ticket: string, Fare: double, Cabin: string, Embarked: string]"
      ]
     },
     "metadata": {},
     "output_type": "display_data"
    }
   ],
   "source": [
    "display(titanic_df)"
   ]
  },
  {
   "cell_type": "code",
   "execution_count": 5,
   "id": "0726877d",
   "metadata": {},
   "outputs": [
    {
     "name": "stdout",
     "output_type": "stream",
     "text": [
      "root\n",
      " |-- PassengerId: integer (nullable = true)\n",
      " |-- Survived: integer (nullable = true)\n",
      " |-- Pclass: integer (nullable = true)\n",
      " |-- Name: string (nullable = true)\n",
      " |-- Sex: string (nullable = true)\n",
      " |-- Age: double (nullable = true)\n",
      " |-- SibSp: integer (nullable = true)\n",
      " |-- Parch: integer (nullable = true)\n",
      " |-- Ticket: string (nullable = true)\n",
      " |-- Fare: double (nullable = true)\n",
      " |-- Cabin: string (nullable = true)\n",
      " |-- Embarked: string (nullable = true)\n",
      "\n"
     ]
    }
   ],
   "source": [
    "titanic_df.printSchema()"
   ]
  },
  {
   "cell_type": "code",
   "execution_count": 6,
   "id": "a618f360",
   "metadata": {},
   "outputs": [
    {
     "name": "stdout",
     "output_type": "stream",
     "text": [
      "+-----------+--------+------+--------------------+------+----+-----+-----+----------------+-------+-----+--------+\n",
      "|PassengerId|Survived|Pclass|                Name|   Sex| Age|SibSp|Parch|          Ticket|   Fare|Cabin|Embarked|\n",
      "+-----------+--------+------+--------------------+------+----+-----+-----+----------------+-------+-----+--------+\n",
      "|          1|       0|     3|Braund, Mr. Owen ...|  male|22.0|    1|    0|       A/5 21171|   7.25| NULL|       S|\n",
      "|          2|       1|     1|Cumings, Mrs. Joh...|female|38.0|    1|    0|        PC 17599|71.2833|  C85|       C|\n",
      "|          3|       1|     3|Heikkinen, Miss. ...|female|26.0|    0|    0|STON/O2. 3101282|  7.925| NULL|       S|\n",
      "|          4|       1|     1|Futrelle, Mrs. Ja...|female|35.0|    1|    0|          113803|   53.1| C123|       S|\n",
      "|          5|       0|     3|Allen, Mr. Willia...|  male|35.0|    0|    0|          373450|   8.05| NULL|       S|\n",
      "+-----------+--------+------+--------------------+------+----+-----+-----+----------------+-------+-----+--------+\n",
      "only showing top 5 rows\n",
      "\n"
     ]
    }
   ],
   "source": [
    "titanic_df.show(5)"
   ]
  },
  {
   "cell_type": "code",
   "execution_count": 7,
   "id": "db97c5c0",
   "metadata": {},
   "outputs": [
    {
     "name": "stdout",
     "output_type": "stream",
     "text": [
      "+--------+------+--------+\n",
      "|Survived|Pclass|Embarked|\n",
      "+--------+------+--------+\n",
      "|       0|     3|       S|\n",
      "|       1|     1|       C|\n",
      "|       1|     3|       S|\n",
      "|       1|     1|       S|\n",
      "|       0|     3|       S|\n",
      "|       0|     3|       Q|\n",
      "|       0|     1|       S|\n",
      "|       0|     3|       S|\n",
      "|       1|     3|       S|\n",
      "|       1|     2|       C|\n",
      "|       1|     3|       S|\n",
      "|       1|     1|       S|\n",
      "|       0|     3|       S|\n",
      "|       0|     3|       S|\n",
      "|       0|     3|       S|\n",
      "|       1|     2|       S|\n",
      "|       0|     3|       Q|\n",
      "|       1|     2|       S|\n",
      "|       0|     3|       S|\n",
      "|       1|     3|       C|\n",
      "+--------+------+--------+\n",
      "only showing top 20 rows\n",
      "\n"
     ]
    }
   ],
   "source": [
    "titanic_df.select(\"Survived\",\"Pclass\",\"Embarked\").show()"
   ]
  },
  {
   "cell_type": "code",
   "execution_count": 8,
   "id": "d7175a36",
   "metadata": {
    "scrolled": true
   },
   "outputs": [
    {
     "name": "stdout",
     "output_type": "stream",
     "text": [
      "+--------+-----+\n",
      "|Survived|count|\n",
      "+--------+-----+\n",
      "|       1|  308|\n",
      "|       0|  491|\n",
      "+--------+-----+\n",
      "\n"
     ]
    }
   ],
   "source": [
    "titanic_df.groupBy(\"Survived\").count().show()"
   ]
  },
  {
   "cell_type": "code",
   "execution_count": 9,
   "id": "80af36f9",
   "metadata": {},
   "outputs": [
    {
     "name": "stdout",
     "output_type": "stream",
     "text": [
      "+------+--------+-----+\n",
      "|Pclass|Survived|count|\n",
      "+------+--------+-----+\n",
      "|     1|       0|   75|\n",
      "|     3|       1|  108|\n",
      "|     1|       1|  120|\n",
      "|     2|       1|   80|\n",
      "|     2|       0|   86|\n",
      "|     3|       0|  330|\n",
      "+------+--------+-----+\n",
      "\n"
     ]
    }
   ],
   "source": [
    "titanic_df.groupBy(\"Pclass\",\"Survived\").count().show()"
   ]
  },
  {
   "cell_type": "code",
   "execution_count": 10,
   "id": "2b7f3c8e",
   "metadata": {},
   "outputs": [
    {
     "name": "stdout",
     "output_type": "stream",
     "text": [
      "+------+--------+-----+\n",
      "|   Sex|Survived|count|\n",
      "+------+--------+-----+\n",
      "|female|       1|  211|\n",
      "|  male|       1|   97|\n",
      "+------+--------+-----+\n",
      "\n"
     ]
    }
   ],
   "source": [
    "# task 1\n",
    "#Did more male or а female survived? (show the table)\n",
    "survived_data_male_female = titanic_df.groupby(['Sex', 'Survived']).count()\n",
    "survived_data = survived_data_male_female[survived_data_male_female['Survived'] == 1]\n",
    "\n",
    "survived_data.show()\n",
    "# Answer => Male who survived were 97 and Female who survived were 211"
   ]
  },
  {
   "cell_type": "code",
   "execution_count": 11,
   "id": "cdedd380",
   "metadata": {},
   "outputs": [
    {
     "name": "stdout",
     "output_type": "stream",
     "text": [
      "+--------------------+\n",
      "|                Name|\n",
      "+--------------------+\n",
      "|Braund, Mr. Owen ...|\n",
      "|Cumings, Mrs. Joh...|\n",
      "|Heikkinen, Miss. ...|\n",
      "|Futrelle, Mrs. Ja...|\n",
      "|Allen, Mr. Willia...|\n",
      "|    Moran, Mr. James|\n",
      "|McCarthy, Mr. Tim...|\n",
      "|Palsson, Master. ...|\n",
      "|Johnson, Mrs. Osc...|\n",
      "|Nasser, Mrs. Nich...|\n",
      "|Sandstrom, Miss. ...|\n",
      "|Bonnell, Miss. El...|\n",
      "|Saundercock, Mr. ...|\n",
      "|Andersson, Mr. An...|\n",
      "|Vestrom, Miss. Hu...|\n",
      "|Hewlett, Mrs. (Ma...|\n",
      "|Rice, Master. Eugene|\n",
      "|Williams, Mr. Cha...|\n",
      "|Vander Planke, Mr...|\n",
      "|Masselmani, Mrs. ...|\n",
      "+--------------------+\n",
      "only showing top 20 rows\n",
      "\n"
     ]
    }
   ],
   "source": [
    "#check Initial\n",
    "titanic_df.select(\"Name\").show()"
   ]
  },
  {
   "cell_type": "code",
   "execution_count": 12,
   "id": "5aa273ce",
   "metadata": {},
   "outputs": [
    {
     "name": "stdout",
     "output_type": "stream",
     "text": [
      "+-------+\n",
      "|Initial|\n",
      "+-------+\n",
      "|     Mr|\n",
      "|    Mrs|\n",
      "|   Miss|\n",
      "|    Mrs|\n",
      "|     Mr|\n",
      "|     Mr|\n",
      "|     Mr|\n",
      "| Master|\n",
      "|    Mrs|\n",
      "|    Mrs|\n",
      "|   Miss|\n",
      "|   Miss|\n",
      "|     Mr|\n",
      "|     Mr|\n",
      "|   Miss|\n",
      "|    Mrs|\n",
      "| Master|\n",
      "|     Mr|\n",
      "|    Mrs|\n",
      "|    Mrs|\n",
      "+-------+\n",
      "only showing top 20 rows\n",
      "\n"
     ]
    }
   ],
   "source": [
    "titanic_df = titanic_df.withColumn(\"Initial\",regexp_extract(col(\"Name\"),\"([A-Za-z]+)\\.\",1))\n",
    "titanic_df.select(\"Initial\").show()"
   ]
  },
  {
   "cell_type": "code",
   "execution_count": 13,
   "id": "df0ccde3",
   "metadata": {},
   "outputs": [],
   "source": [
    "titanic_df = titanic_df.replace(['Mlle','Mme', 'Ms', 'Dr','Major','Lady','Countess','Jonkheer','Col','Rev','Capt','Sir','Don'],\n",
    "               ['Miss','Miss','Miss','Mr','Mr',  'Mrs',  'Mrs',  'Other',  'Other','Other','Mr','Mr','Mr'])"
   ]
  },
  {
   "cell_type": "code",
   "execution_count": 14,
   "id": "a0fcc139",
   "metadata": {},
   "outputs": [
    {
     "name": "stdout",
     "output_type": "stream",
     "text": [
      "+-------+\n",
      "|Initial|\n",
      "+-------+\n",
      "|   Miss|\n",
      "|  Other|\n",
      "| Master|\n",
      "|     Mr|\n",
      "|    Mrs|\n",
      "+-------+\n",
      "\n"
     ]
    }
   ],
   "source": [
    "titanic_df.select(\"Initial\").distinct().show()"
   ]
  },
  {
   "cell_type": "code",
   "execution_count": 15,
   "id": "23429159",
   "metadata": {},
   "outputs": [
    {
     "data": {
      "text/plain": [
       "[Row(Initial='Miss', avg(Age)=21.97841726618705),\n",
       " Row(Initial='Other', avg(Age)=53.333333333333336),\n",
       " Row(Initial='Master', avg(Age)=4.693571428571429),\n",
       " Row(Initial='Mr', avg(Age)=32.88274932614555),\n",
       " Row(Initial='Mrs', avg(Age)=35.78260869565217)]"
      ]
     },
     "execution_count": 15,
     "metadata": {},
     "output_type": "execute_result"
    }
   ],
   "source": [
    "#Calculate  avereg age \n",
    "titanic_df.groupby('Initial').avg('Age').collect()"
   ]
  },
  {
   "cell_type": "code",
   "execution_count": 18,
   "id": "2c1fdb95",
   "metadata": {},
   "outputs": [
    {
     "name": "stdout",
     "output_type": "stream",
     "text": [
      "Standard deviation is $ 51.56\n",
      "Median is $ 14.50\n",
      "Mean is $ 33.05\n"
     ]
    }
   ],
   "source": [
    "#Task 2. What is the median and standard deviation of payments (`Fare`)?\n",
    "from pyspark.sql.functions import mean, stddev , median\n",
    "# Fare\n",
    "fare_stddev = titanic_df.select(stddev(\"Fare\")).collect()[0][0]\n",
    "\n",
    "fare_median = titanic_df.select(median(\"Fare\")).collect()[0][0]\n",
    "\n",
    "fare_mean = titanic_df.select(mean(\"Fare\")).collect()[0][0]\n",
    "\n",
    "\n",
    "print(f\"Standard deviation is $ {fare_stddev:.2f}\")\n",
    "\n",
    "print(f\"Median is $ {fare_median:.2f}\")\n",
    "\n",
    "print(f\"Mean is $ {fare_mean:.2f}\")\n"
   ]
  },
  {
   "cell_type": "code",
   "execution_count": 20,
   "id": "04ca40db",
   "metadata": {},
   "outputs": [
    {
     "name": "stdout",
     "output_type": "stream",
     "text": [
      "The most popular the male name is William\n"
     ]
    }
   ],
   "source": [
    "#Task 3.\n",
    "#Find the most popular the male name.\n",
    "from collections import Counter\n",
    "# Select Name\n",
    "df =  titanic_df.select(\"Name\")[titanic_df['Sex'] == 'male'].collect()\n",
    "names = []\n",
    "for r in df:\n",
    "    name = r[\"Name\"].split(\",\")\n",
    "    \n",
    "    surname = name[0]\n",
    "    fullname = name[1].split(\".\")[1].split(\" \")\n",
    "    f_name = fullname[1]\n",
    "\n",
    "    \n",
    "    if len(fullname) == 3:\n",
    "        l_name = fullname[2]\n",
    "    \n",
    "    names.append(f_name)\n",
    "    names.append(l_name)\n",
    "    names.append(surname)    \n",
    "\n",
    "name_counts = Counter(names)\n",
    "mode_name = name_counts.most_common(1)[0][0]  # Extracts the most common name\n",
    "mode_name\n",
    "\n",
    "print(f\"The most popular the male name is {mode_name}\")\n",
    "\n",
    "\n"
   ]
  },
  {
   "cell_type": "code",
   "execution_count": 21,
   "id": "cd237d0c",
   "metadata": {},
   "outputs": [
    {
     "name": "stdout",
     "output_type": "stream",
     "text": [
      "People Under age of 30 did survive by 40.4%\n",
      "People Over age of 30 did survive by 20.0%\n"
     ]
    }
   ],
   "source": [
    "#Task 4.Is it true that people under the age of 30 survived more often than people over the age of 60? What are the proportions of survivors in both groups?\n",
    "\n",
    "# Calculate:\n",
    "\n",
    "under_30 = titanic_df[titanic_df['Age'] < 30]\n",
    "\n",
    "over_30 = titanic_df[titanic_df['Age'] > 60]\n",
    "\n",
    "# under 30\n",
    "under_mean = under_30.select(mean(\"Survived\")).collect()[0][0]\n",
    "# Over 30\n",
    "over_mean =  over_30.select(mean(\"Survived\")).collect()[0][0]\n",
    "    \n",
    "print(f\"People Under age of 30 did survive by {under_mean*100:.1f}%\")\n",
    "print(f\"People Over age of 30 did survive by {over_mean*100:.1f}%\")\n",
    "\n"
   ]
  },
  {
   "cell_type": "code",
   "execution_count": 22,
   "id": "1a809a46",
   "metadata": {},
   "outputs": [
    {
     "name": "stdout",
     "output_type": "stream",
     "text": [
      "QN_1:=> On average, men of the 1st class are over 40 years old\n",
      "Yes , The average age of men in the 1st class is approximately  41.92 years.\n",
      "**************************\n",
      "QN_2:=> On average, 1st grade women are over 40 years old\n",
      "No , The average age of women in the 1st class is approximately  33.72 years.\n",
      "**************************\n",
      "QN_3:=> Men of all classes are on average older than women of the same class \n",
      "Men   = [41.91936170212766, 26.47085201793722, 31.70689655172414]\n",
      "Women = [33.71621621621622, 21.916666666666668, 28.360294117647058]\n",
      "it is True that all men are older than women in the same class\n",
      "**************************\n",
      "QN_4:=> On average, people in the 1st grade are older than in the 2nd, and those are older than representatives of the 3rd grade \n",
      " 1 Class on average approximately  38.31 years\n",
      " 3 Class on average approximately  25.16 years\n",
      " 2 Class on average approximately  30.24 years\n",
      "**************************\n"
     ]
    }
   ],
   "source": [
    "#Task 5.\n",
    "'''\n",
    "How does the average age of men/women differ depending on the class of service? Choose the correct statements:**\n",
    "- On average, men of the 1st class are over 40 years old\n",
    "- On average, 1st grade women are over 40 years old\n",
    "- Men of all classes are on average older than women of the same class\n",
    "- On average, people in the 1st grade are older than in the 2nd, and those are older than representatives of the 3rd grade\n",
    "'''\n",
    "# Select Sex , Age and Pclass from the dataset\n",
    "data = titanic_df.select(\"Sex\",\"Age\",\"Pclass\")\n",
    "\n",
    "# Select only first class passengers\n",
    "\n",
    "data_class = data[data[\"Pclass\"] == 1]\n",
    "\n",
    "# ANS_1 => On average, men of the 1st class are over 40 years old\n",
    "\n",
    "# Find Average of the men on the 1st class \n",
    "men_age_avg_01 = data_class[data_class[\"Sex\"] == \"male\"].select(mean(\"Age\")).collect()[0][0]\n",
    "\n",
    "# ANS =>   On average, men of the 1st class are over 40 years old\n",
    "print(\"QN_1:=> On average, men of the 1st class are over 40 years old\")\n",
    "print(f\"Yes , The average age of men in the 1st class is approximately {men_age_avg_01: .2f} years.\")\n",
    "print(\"**************************\")\n",
    "\n",
    "# ANS_2\n",
    "# Find Average of the women on the 1st class \n",
    "women_age_avg_01 = data_class[data_class[\"Sex\"] == \"female\"].select(mean(\"Age\")).collect()[0][0]\n",
    "\n",
    "\n",
    "# ANS =>   On average, women of the 1st class are over 40 years old\n",
    "\n",
    "print(\"QN_2:=> On average, 1st grade women are over 40 years old\")\n",
    "print(f\"No , The average age of women in the 1st class is approximately {women_age_avg_01: .2f} years.\")\n",
    "print(\"**************************\")\n",
    "\n",
    "\n",
    "# ANS_3\n",
    "\n",
    "#Men age average of all classes\n",
    "data_male_avg = data[data[\"Sex\"] == \"male\"].groupby('Pclass').mean(\"Age\").collect()\n",
    "\n",
    "#Women age average of all classes\n",
    "data_women_avg = data[data[\"Sex\"] == \"female\"].groupby('Pclass').mean(\"Age\").collect()\n",
    "\n",
    "\n",
    "# ANS => Men of all classes are on average older than women of the same class\n",
    "\n",
    "# men_older_than_women_same_class = all(data_male_avg > data_women_avg)\n",
    "\n",
    "# print(men_older_than_women_same_class)\n",
    "\n",
    "age_male_avg = [row[1] for row in data_male_avg]\n",
    "age_women_avg = [row[1] for row in data_women_avg]\n",
    "\n",
    "print(\"QN_3:=> Men of all classes are on average older than women of the same class \")\n",
    "print(f\"Men   = {age_male_avg }\")\n",
    "print(f\"Women = {age_women_avg }\")\n",
    "ans =  all(men_age > women_age for men_age, women_age in zip(age_male_avg, age_women_avg))\n",
    "print(f\"it is {ans} that all men are older than women in the same class\")\n",
    "print(\"**************************\")\n",
    "\n",
    "# ANS_4\n",
    "# On average, people in the 1st grade are older than in the 2nd, \n",
    "# and those are older than representatives of the 3rd grade\n",
    "classes_age_avg = data.groupby('Pclass').mean(\"Age\").collect()\n",
    "\n",
    "print(\"QN_4:=> On average, people in the 1st grade are older than in the 2nd, and those are older than representatives of the 3rd grade \")\n",
    "for row in classes_age_avg:\n",
    "    print(f\" {row[0]} Class on average approximately {row[1]: .2f} years\")\n",
    "print(\"**************************\")\n",
    "\n",
    "\n"
   ]
  },
  {
   "cell_type": "code",
   "execution_count": null,
   "id": "0ee37dc0",
   "metadata": {},
   "outputs": [],
   "source": []
  }
 ],
 "metadata": {
  "kernelspec": {
   "display_name": "Python 3",
   "language": "python",
   "name": "python3"
  },
  "language_info": {
   "codemirror_mode": {
    "name": "ipython",
    "version": 3
   },
   "file_extension": ".py",
   "mimetype": "text/x-python",
   "name": "python",
   "nbconvert_exporter": "python",
   "pygments_lexer": "ipython3",
   "version": "3.8.5"
  }
 },
 "nbformat": 4,
 "nbformat_minor": 5
}
